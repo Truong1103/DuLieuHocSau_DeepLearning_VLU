{
 "cells": [
  {
   "cell_type": "code",
   "execution_count": 2,
   "metadata": {},
   "outputs": [],
   "source": [
    "import pandas as pd"
   ]
  },
  {
   "cell_type": "code",
   "execution_count": 3,
   "metadata": {},
   "outputs": [
    {
     "data": {
      "text/html": [
       "<div>\n",
       "<style scoped>\n",
       "    .dataframe tbody tr th:only-of-type {\n",
       "        vertical-align: middle;\n",
       "    }\n",
       "\n",
       "    .dataframe tbody tr th {\n",
       "        vertical-align: top;\n",
       "    }\n",
       "\n",
       "    .dataframe thead th {\n",
       "        text-align: right;\n",
       "    }\n",
       "</style>\n",
       "<table border=\"1\" class=\"dataframe\">\n",
       "  <thead>\n",
       "    <tr style=\"text-align: right;\">\n",
       "      <th></th>\n",
       "      <th>1</th>\n",
       "      <th>Mickéy Mousé</th>\n",
       "      <th>56</th>\n",
       "      <th>70kgs</th>\n",
       "      <th>72</th>\n",
       "      <th>69</th>\n",
       "      <th>71</th>\n",
       "      <th>-</th>\n",
       "      <th>-.1</th>\n",
       "      <th>-.2</th>\n",
       "    </tr>\n",
       "  </thead>\n",
       "  <tbody>\n",
       "    <tr>\n",
       "      <th>0</th>\n",
       "      <td>2.0</td>\n",
       "      <td>Donald Duck</td>\n",
       "      <td>34.0</td>\n",
       "      <td>154.89lbs</td>\n",
       "      <td>-</td>\n",
       "      <td>-</td>\n",
       "      <td>-</td>\n",
       "      <td>85</td>\n",
       "      <td>84</td>\n",
       "      <td>76</td>\n",
       "    </tr>\n",
       "    <tr>\n",
       "      <th>1</th>\n",
       "      <td>3.0</td>\n",
       "      <td>Mini Mouse</td>\n",
       "      <td>16.0</td>\n",
       "      <td>NaN</td>\n",
       "      <td>-</td>\n",
       "      <td>-</td>\n",
       "      <td>-</td>\n",
       "      <td>65</td>\n",
       "      <td>69</td>\n",
       "      <td>72</td>\n",
       "    </tr>\n",
       "    <tr>\n",
       "      <th>2</th>\n",
       "      <td>4.0</td>\n",
       "      <td>Scrooge McDuck</td>\n",
       "      <td>NaN</td>\n",
       "      <td>78kgs</td>\n",
       "      <td>78</td>\n",
       "      <td>79</td>\n",
       "      <td>72</td>\n",
       "      <td>-</td>\n",
       "      <td>-</td>\n",
       "      <td>-</td>\n",
       "    </tr>\n",
       "    <tr>\n",
       "      <th>3</th>\n",
       "      <td>5.0</td>\n",
       "      <td>Pink Panther</td>\n",
       "      <td>54.0</td>\n",
       "      <td>198.658lbs</td>\n",
       "      <td>-</td>\n",
       "      <td>-</td>\n",
       "      <td>-</td>\n",
       "      <td>69</td>\n",
       "      <td>NaN</td>\n",
       "      <td>75</td>\n",
       "    </tr>\n",
       "    <tr>\n",
       "      <th>4</th>\n",
       "      <td>6.0</td>\n",
       "      <td>Huey McDuck</td>\n",
       "      <td>52.0</td>\n",
       "      <td>189lbs</td>\n",
       "      <td>-</td>\n",
       "      <td>-</td>\n",
       "      <td>-</td>\n",
       "      <td>68</td>\n",
       "      <td>75</td>\n",
       "      <td>72</td>\n",
       "    </tr>\n",
       "    <tr>\n",
       "      <th>5</th>\n",
       "      <td>7.0</td>\n",
       "      <td>Dewey McDuck</td>\n",
       "      <td>19.0</td>\n",
       "      <td>56kgs</td>\n",
       "      <td>-</td>\n",
       "      <td>-</td>\n",
       "      <td>-</td>\n",
       "      <td>71</td>\n",
       "      <td>78</td>\n",
       "      <td>75</td>\n",
       "    </tr>\n",
       "    <tr>\n",
       "      <th>6</th>\n",
       "      <td>8.0</td>\n",
       "      <td>Scööpy Doo</td>\n",
       "      <td>32.0</td>\n",
       "      <td>78kgs</td>\n",
       "      <td>78</td>\n",
       "      <td>76</td>\n",
       "      <td>75</td>\n",
       "      <td>-</td>\n",
       "      <td>-</td>\n",
       "      <td>-</td>\n",
       "    </tr>\n",
       "    <tr>\n",
       "      <th>7</th>\n",
       "      <td>NaN</td>\n",
       "      <td>NaN</td>\n",
       "      <td>NaN</td>\n",
       "      <td>NaN</td>\n",
       "      <td>NaN</td>\n",
       "      <td>NaN</td>\n",
       "      <td>NaN</td>\n",
       "      <td>NaN</td>\n",
       "      <td>NaN</td>\n",
       "      <td>NaN</td>\n",
       "    </tr>\n",
       "    <tr>\n",
       "      <th>8</th>\n",
       "      <td>NaN</td>\n",
       "      <td>NaN</td>\n",
       "      <td>NaN</td>\n",
       "      <td>NaN</td>\n",
       "      <td>NaN</td>\n",
       "      <td>NaN</td>\n",
       "      <td>NaN</td>\n",
       "      <td>NaN</td>\n",
       "      <td>NaN</td>\n",
       "      <td>NaN</td>\n",
       "    </tr>\n",
       "    <tr>\n",
       "      <th>9</th>\n",
       "      <td>NaN</td>\n",
       "      <td>NaN</td>\n",
       "      <td>NaN</td>\n",
       "      <td>NaN</td>\n",
       "      <td>NaN</td>\n",
       "      <td>NaN</td>\n",
       "      <td>NaN</td>\n",
       "      <td>NaN</td>\n",
       "      <td>NaN</td>\n",
       "      <td>NaN</td>\n",
       "    </tr>\n",
       "    <tr>\n",
       "      <th>10</th>\n",
       "      <td>9.0</td>\n",
       "      <td>Huey McDuck</td>\n",
       "      <td>52.0</td>\n",
       "      <td>189lbs</td>\n",
       "      <td>-</td>\n",
       "      <td>-</td>\n",
       "      <td>-</td>\n",
       "      <td>68</td>\n",
       "      <td>75</td>\n",
       "      <td>72</td>\n",
       "    </tr>\n",
       "    <tr>\n",
       "      <th>11</th>\n",
       "      <td>10.0</td>\n",
       "      <td>Louie McDuck</td>\n",
       "      <td>12.0</td>\n",
       "      <td>45kgs</td>\n",
       "      <td>-</td>\n",
       "      <td>-</td>\n",
       "      <td>-</td>\n",
       "      <td>92</td>\n",
       "      <td>95</td>\n",
       "      <td>87</td>\n",
       "    </tr>\n",
       "    <tr>\n",
       "      <th>12</th>\n",
       "      <td>11.0</td>\n",
       "      <td>Henry Nam</td>\n",
       "      <td>NaN</td>\n",
       "      <td>60kgs</td>\n",
       "      <td>78</td>\n",
       "      <td>75</td>\n",
       "      <td>72</td>\n",
       "      <td>-</td>\n",
       "      <td>-</td>\n",
       "      <td>-</td>\n",
       "    </tr>\n",
       "    <tr>\n",
       "      <th>13</th>\n",
       "      <td>12.0</td>\n",
       "      <td>Michel Long</td>\n",
       "      <td>34.0</td>\n",
       "      <td>NaN</td>\n",
       "      <td>65</td>\n",
       "      <td>67</td>\n",
       "      <td>55</td>\n",
       "      <td>-</td>\n",
       "      <td>-</td>\n",
       "      <td>-</td>\n",
       "    </tr>\n",
       "    <tr>\n",
       "      <th>14</th>\n",
       "      <td>13.0</td>\n",
       "      <td>Tana Ricky</td>\n",
       "      <td>NaN</td>\n",
       "      <td>NaN</td>\n",
       "      <td>-</td>\n",
       "      <td>-</td>\n",
       "      <td>-</td>\n",
       "      <td>68</td>\n",
       "      <td>72</td>\n",
       "      <td>70</td>\n",
       "    </tr>\n",
       "    <tr>\n",
       "      <th>15</th>\n",
       "      <td>14.0</td>\n",
       "      <td>UniLever</td>\n",
       "      <td>NaN</td>\n",
       "      <td>NaN</td>\n",
       "      <td>NaN</td>\n",
       "      <td>NaN</td>\n",
       "      <td>NaN</td>\n",
       "      <td>NaN</td>\n",
       "      <td>NaN</td>\n",
       "      <td>NaN</td>\n",
       "    </tr>\n",
       "    <tr>\n",
       "      <th>16</th>\n",
       "      <td>15.0</td>\n",
       "      <td>NaN</td>\n",
       "      <td>52.0</td>\n",
       "      <td>180lbs</td>\n",
       "      <td>-</td>\n",
       "      <td>-</td>\n",
       "      <td>-</td>\n",
       "      <td>68</td>\n",
       "      <td>75</td>\n",
       "      <td>72</td>\n",
       "    </tr>\n",
       "  </tbody>\n",
       "</table>\n",
       "</div>"
      ],
      "text/plain": [
       "       1    Mickéy Mousé    56       70kgs   72   69   71    -  -.1  -.2\n",
       "0    2.0     Donald Duck  34.0   154.89lbs    -    -    -   85   84   76\n",
       "1    3.0      Mini Mouse  16.0         NaN    -    -    -   65   69   72\n",
       "2    4.0  Scrooge McDuck   NaN       78kgs   78   79   72    -    -    -\n",
       "3    5.0    Pink Panther  54.0  198.658lbs    -    -    -   69  NaN   75\n",
       "4    6.0     Huey McDuck  52.0      189lbs    -    -    -   68   75   72\n",
       "5    7.0    Dewey McDuck  19.0       56kgs    -    -    -   71   78   75\n",
       "6    8.0      Scööpy Doo  32.0       78kgs   78   76   75    -    -    -\n",
       "7    NaN             NaN   NaN         NaN  NaN  NaN  NaN  NaN  NaN  NaN\n",
       "8    NaN             NaN   NaN         NaN  NaN  NaN  NaN  NaN  NaN  NaN\n",
       "9    NaN             NaN   NaN         NaN  NaN  NaN  NaN  NaN  NaN  NaN\n",
       "10   9.0     Huey McDuck  52.0      189lbs    -    -    -   68   75   72\n",
       "11  10.0    Louie McDuck  12.0       45kgs    -    -    -   92   95   87\n",
       "12  11.0       Henry Nam   NaN       60kgs   78   75   72    -    -    -\n",
       "13  12.0     Michel Long  34.0         NaN   65   67   55    -    -    -\n",
       "14  13.0      Tana Ricky   NaN         NaN    -    -    -   68   72   70\n",
       "15  14.0        UniLever   NaN         NaN  NaN  NaN  NaN  NaN  NaN  NaN\n",
       "16  15.0             NaN  52.0      180lbs    -    -    -   68   75   72"
      ]
     },
     "execution_count": 3,
     "metadata": {},
     "output_type": "execute_result"
    }
   ],
   "source": [
    "df = pd.read_csv(r\"patient_heart_rate.csv\")\n",
    "df"
   ]
  },
  {
   "cell_type": "code",
   "execution_count": 4,
   "metadata": {},
   "outputs": [
    {
     "data": {
      "text/html": [
       "<div>\n",
       "<style scoped>\n",
       "    .dataframe tbody tr th:only-of-type {\n",
       "        vertical-align: middle;\n",
       "    }\n",
       "\n",
       "    .dataframe tbody tr th {\n",
       "        vertical-align: top;\n",
       "    }\n",
       "\n",
       "    .dataframe thead th {\n",
       "        text-align: right;\n",
       "    }\n",
       "</style>\n",
       "<table border=\"1\" class=\"dataframe\">\n",
       "  <thead>\n",
       "    <tr style=\"text-align: right;\">\n",
       "      <th></th>\n",
       "      <th>1</th>\n",
       "      <th>Mickéy Mousé</th>\n",
       "      <th>56</th>\n",
       "      <th>70kgs</th>\n",
       "      <th>72</th>\n",
       "      <th>69</th>\n",
       "      <th>71</th>\n",
       "      <th>-</th>\n",
       "      <th>-.1</th>\n",
       "      <th>-.2</th>\n",
       "    </tr>\n",
       "  </thead>\n",
       "  <tbody>\n",
       "    <tr>\n",
       "      <th>0</th>\n",
       "      <td>2.0</td>\n",
       "      <td>Donald Duck</td>\n",
       "      <td>34.0</td>\n",
       "      <td>154.89lbs</td>\n",
       "      <td>-</td>\n",
       "      <td>-</td>\n",
       "      <td>-</td>\n",
       "      <td>85</td>\n",
       "      <td>84</td>\n",
       "      <td>76</td>\n",
       "    </tr>\n",
       "    <tr>\n",
       "      <th>1</th>\n",
       "      <td>3.0</td>\n",
       "      <td>Mini Mouse</td>\n",
       "      <td>16.0</td>\n",
       "      <td>NaN</td>\n",
       "      <td>-</td>\n",
       "      <td>-</td>\n",
       "      <td>-</td>\n",
       "      <td>65</td>\n",
       "      <td>69</td>\n",
       "      <td>72</td>\n",
       "    </tr>\n",
       "    <tr>\n",
       "      <th>2</th>\n",
       "      <td>4.0</td>\n",
       "      <td>Scrooge McDuck</td>\n",
       "      <td>NaN</td>\n",
       "      <td>78kgs</td>\n",
       "      <td>78</td>\n",
       "      <td>79</td>\n",
       "      <td>72</td>\n",
       "      <td>-</td>\n",
       "      <td>-</td>\n",
       "      <td>-</td>\n",
       "    </tr>\n",
       "    <tr>\n",
       "      <th>3</th>\n",
       "      <td>5.0</td>\n",
       "      <td>Pink Panther</td>\n",
       "      <td>54.0</td>\n",
       "      <td>198.658lbs</td>\n",
       "      <td>-</td>\n",
       "      <td>-</td>\n",
       "      <td>-</td>\n",
       "      <td>69</td>\n",
       "      <td>NaN</td>\n",
       "      <td>75</td>\n",
       "    </tr>\n",
       "    <tr>\n",
       "      <th>4</th>\n",
       "      <td>6.0</td>\n",
       "      <td>Huey McDuck</td>\n",
       "      <td>52.0</td>\n",
       "      <td>189lbs</td>\n",
       "      <td>-</td>\n",
       "      <td>-</td>\n",
       "      <td>-</td>\n",
       "      <td>68</td>\n",
       "      <td>75</td>\n",
       "      <td>72</td>\n",
       "    </tr>\n",
       "  </tbody>\n",
       "</table>\n",
       "</div>"
      ],
      "text/plain": [
       "     1    Mickéy Mousé    56       70kgs  72  69  71   -  -.1 -.2\n",
       "0  2.0     Donald Duck  34.0   154.89lbs   -   -   -  85   84  76\n",
       "1  3.0      Mini Mouse  16.0         NaN   -   -   -  65   69  72\n",
       "2  4.0  Scrooge McDuck   NaN       78kgs  78  79  72   -    -   -\n",
       "3  5.0    Pink Panther  54.0  198.658lbs   -   -   -  69  NaN  75\n",
       "4  6.0     Huey McDuck  52.0      189lbs   -   -   -  68   75  72"
      ]
     },
     "execution_count": 4,
     "metadata": {},
     "output_type": "execute_result"
    }
   ],
   "source": [
    "df.head(5)"
   ]
  },
  {
   "cell_type": "markdown",
   "metadata": {},
   "source": [
    "Vấn đề 1 Thêm header vào dataframe để diễn giải dữ liệu\n"
   ]
  },
  {
   "cell_type": "code",
   "execution_count": 5,
   "metadata": {},
   "outputs": [],
   "source": [
    "#thêm header vào dataframe để diễn giải dữ liệu\n",
    "column_names= [\"Id\", \"Name\", \"Age\", \"Weight\", 'm0006', 'm0612', 'm1218', 'f0006', 'f0612', 'f1218']"
   ]
  },
  {
   "cell_type": "code",
   "execution_count": 6,
   "metadata": {},
   "outputs": [],
   "source": [
    "#Đọc file dữ liệu\n",
    "df = pd.read_csv(\"patient_heart_rate.csv\",names=column_names)\n"
   ]
  },
  {
   "cell_type": "code",
   "execution_count": 7,
   "metadata": {},
   "outputs": [
    {
     "name": "stdout",
     "output_type": "stream",
     "text": [
      "    Id            Name   Age      Weight m0006 m0612 m1218 f0006 f0612 f1218\n",
      "0  1.0    Mickéy Mousé  56.0       70kgs    72    69    71     -     -     -\n",
      "1  2.0     Donald Duck  34.0   154.89lbs     -     -     -    85    84    76\n",
      "2  3.0      Mini Mouse  16.0         NaN     -     -     -    65    69    72\n",
      "3  4.0  Scrooge McDuck   NaN       78kgs    78    79    72     -     -     -\n",
      "4  5.0    Pink Panther  54.0  198.658lbs     -     -     -    69   NaN    75\n"
     ]
    }
   ],
   "source": [
    "#Hiển thị một vài dòng dữ liệu đầu tiên in ra màn hinh\n",
    "print(df.head())"
   ]
  },
  {
   "cell_type": "markdown",
   "metadata": {},
   "source": [
    "Vấn đề 2 Tách tên và họ, và bỏ cột Name"
   ]
  },
  {
   "cell_type": "code",
   "execution_count": 8,
   "metadata": {},
   "outputs": [
    {
     "name": "stdout",
     "output_type": "stream",
     "text": [
      "      Id   Age      Weight m0006 m0612 m1218 f0006 f0612 f1218 Firstname  \\\n",
      "0    1.0  56.0       70kgs    72    69    71     -     -     -    Mickéy   \n",
      "1    2.0  34.0   154.89lbs     -     -     -    85    84    76    Donald   \n",
      "2    3.0  16.0         NaN     -     -     -    65    69    72      Mini   \n",
      "3    4.0   NaN       78kgs    78    79    72     -     -     -   Scrooge   \n",
      "4    5.0  54.0  198.658lbs     -     -     -    69   NaN    75      Pink   \n",
      "5    6.0  52.0      189lbs     -     -     -    68    75    72      Huey   \n",
      "6    7.0  19.0       56kgs     -     -     -    71    78    75     Dewey   \n",
      "7    8.0  32.0       78kgs    78    76    75     -     -     -    Scööpy   \n",
      "8    NaN   NaN         NaN   NaN   NaN   NaN   NaN   NaN   NaN       NaN   \n",
      "9    NaN   NaN         NaN   NaN   NaN   NaN   NaN   NaN   NaN       NaN   \n",
      "10   NaN   NaN         NaN   NaN   NaN   NaN   NaN   NaN   NaN       NaN   \n",
      "11   9.0  52.0      189lbs     -     -     -    68    75    72      Huey   \n",
      "12  10.0  12.0       45kgs     -     -     -    92    95    87     Louie   \n",
      "13  11.0   NaN       60kgs    78    75    72     -     -     -     Henry   \n",
      "14  12.0  34.0         NaN    65    67    55     -     -     -    Michel   \n",
      "15  13.0   NaN         NaN     -     -     -    68    72    70      Tana   \n",
      "16  14.0   NaN         NaN   NaN   NaN   NaN   NaN   NaN   NaN  UniLever   \n",
      "17  15.0  52.0      180lbs     -     -     -    68    75    72       NaN   \n",
      "\n",
      "   Lastname  \n",
      "0     Mousé  \n",
      "1      Duck  \n",
      "2     Mouse  \n",
      "3    McDuck  \n",
      "4   Panther  \n",
      "5    McDuck  \n",
      "6    McDuck  \n",
      "7       Doo  \n",
      "8       NaN  \n",
      "9       NaN  \n",
      "10      NaN  \n",
      "11   McDuck  \n",
      "12   McDuck  \n",
      "13      Nam  \n",
      "14     Long  \n",
      "15    Ricky  \n",
      "16     None  \n",
      "17      NaN  \n"
     ]
    }
   ],
   "source": [
    "df[[\"Firstname\",\"Lastname\"]]=df[\"Name\"].str.split(expand=True)\n",
    "df=df.drop(\"Name\",axis=1)\n",
    "print(df)"
   ]
  },
  {
   "cell_type": "markdown",
   "metadata": {},
   "source": [
    "Vấn đề 3 Chuyển đổi đơn vị đo lường của cột Weight từ lbs sang kgs"
   ]
  },
  {
   "cell_type": "code",
   "execution_count": 9,
   "metadata": {},
   "outputs": [
    {
     "name": "stdout",
     "output_type": "stream",
     "text": [
      "      Id   Age Weight m0006 m0612 m1218 f0006 f0612 f1218 Firstname Lastname\n",
      "0    1.0  56.0  70kgs    72    69    71     -     -     -    Mickéy    Mousé\n",
      "1    2.0  34.0  70kgs     -     -     -    85    84    76    Donald     Duck\n",
      "2    3.0  16.0    NaN     -     -     -    65    69    72      Mini    Mouse\n",
      "3    4.0   NaN  78kgs    78    79    72     -     -     -   Scrooge   McDuck\n",
      "4    5.0  54.0  90kgs     -     -     -    69   NaN    75      Pink  Panther\n",
      "5    6.0  52.0  85kgs     -     -     -    68    75    72      Huey   McDuck\n",
      "6    7.0  19.0  56kgs     -     -     -    71    78    75     Dewey   McDuck\n",
      "7    8.0  32.0  78kgs    78    76    75     -     -     -    Scööpy      Doo\n",
      "8    NaN   NaN    NaN   NaN   NaN   NaN   NaN   NaN   NaN       NaN      NaN\n",
      "9    NaN   NaN    NaN   NaN   NaN   NaN   NaN   NaN   NaN       NaN      NaN\n",
      "10   NaN   NaN    NaN   NaN   NaN   NaN   NaN   NaN   NaN       NaN      NaN\n",
      "11   9.0  52.0  85kgs     -     -     -    68    75    72      Huey   McDuck\n",
      "12  10.0  12.0  45kgs     -     -     -    92    95    87     Louie   McDuck\n",
      "13  11.0   NaN  60kgs    78    75    72     -     -     -     Henry      Nam\n",
      "14  12.0  34.0    NaN    65    67    55     -     -     -    Michel     Long\n",
      "15  13.0   NaN    NaN     -     -     -    68    72    70      Tana    Ricky\n",
      "16  14.0   NaN    NaN   NaN   NaN   NaN   NaN   NaN   NaN  UniLever     None\n",
      "17  15.0  52.0  81kgs     -     -     -    68    75    72       NaN      NaN\n"
     ]
    },
    {
     "name": "stderr",
     "output_type": "stream",
     "text": [
      "C:\\Users\\AD\\AppData\\Local\\Temp\\ipykernel_13812\\296099799.py:15: SettingWithCopyWarning: \n",
      "A value is trying to be set on a copy of a slice from a DataFrame\n",
      "\n",
      "See the caveats in the documentation: https://pandas.pydata.org/pandas-docs/stable/user_guide/indexing.html#returning-a-view-versus-a-copy\n",
      "  weight[i]=y\n",
      "C:\\Users\\AD\\AppData\\Local\\Temp\\ipykernel_13812\\296099799.py:15: SettingWithCopyWarning: \n",
      "A value is trying to be set on a copy of a slice from a DataFrame\n",
      "\n",
      "See the caveats in the documentation: https://pandas.pydata.org/pandas-docs/stable/user_guide/indexing.html#returning-a-view-versus-a-copy\n",
      "  weight[i]=y\n",
      "C:\\Users\\AD\\AppData\\Local\\Temp\\ipykernel_13812\\296099799.py:15: SettingWithCopyWarning: \n",
      "A value is trying to be set on a copy of a slice from a DataFrame\n",
      "\n",
      "See the caveats in the documentation: https://pandas.pydata.org/pandas-docs/stable/user_guide/indexing.html#returning-a-view-versus-a-copy\n",
      "  weight[i]=y\n",
      "C:\\Users\\AD\\AppData\\Local\\Temp\\ipykernel_13812\\296099799.py:15: SettingWithCopyWarning: \n",
      "A value is trying to be set on a copy of a slice from a DataFrame\n",
      "\n",
      "See the caveats in the documentation: https://pandas.pydata.org/pandas-docs/stable/user_guide/indexing.html#returning-a-view-versus-a-copy\n",
      "  weight[i]=y\n",
      "C:\\Users\\AD\\AppData\\Local\\Temp\\ipykernel_13812\\296099799.py:15: SettingWithCopyWarning: \n",
      "A value is trying to be set on a copy of a slice from a DataFrame\n",
      "\n",
      "See the caveats in the documentation: https://pandas.pydata.org/pandas-docs/stable/user_guide/indexing.html#returning-a-view-versus-a-copy\n",
      "  weight[i]=y\n"
     ]
    }
   ],
   "source": [
    "#get the Weight column\n",
    "weight=df[\"Weight\"]\n",
    "for i in range (0,len(weight)):\n",
    "    x=str(weight[i])\n",
    "    #Incase lbs is part of observation remove it\n",
    "    if \"lbs\"in x[-3:]:\n",
    "        #remove the lbs from the value\n",
    "        x=x[:-3:]\n",
    "        #covert string to float\n",
    "        float_x=float(x)\n",
    "        #covert to kgs and store as int\n",
    "        y=int(float_x/2.2)\n",
    "        #covert back to string\n",
    "        y=str(y)+\"kgs\"\n",
    "        weight[i]=y\n",
    "print(df)"
   ]
  },
  {
   "cell_type": "markdown",
   "metadata": {},
   "source": [
    "Vấn đề 4 Xóa các hàng chứa toàn bộ giá trị bị thiếu"
   ]
  },
  {
   "cell_type": "code",
   "execution_count": 10,
   "metadata": {},
   "outputs": [
    {
     "name": "stdout",
     "output_type": "stream",
     "text": [
      "      Id   Age Weight m0006 m0612 m1218 f0006 f0612 f1218 Firstname Lastname\n",
      "0    1.0  56.0  70kgs    72    69    71     -     -     -    Mickéy    Mousé\n",
      "1    2.0  34.0  70kgs     -     -     -    85    84    76    Donald     Duck\n",
      "2    3.0  16.0    NaN     -     -     -    65    69    72      Mini    Mouse\n",
      "3    4.0   NaN  78kgs    78    79    72     -     -     -   Scrooge   McDuck\n",
      "4    5.0  54.0  90kgs     -     -     -    69   NaN    75      Pink  Panther\n",
      "5    6.0  52.0  85kgs     -     -     -    68    75    72      Huey   McDuck\n",
      "6    7.0  19.0  56kgs     -     -     -    71    78    75     Dewey   McDuck\n",
      "7    8.0  32.0  78kgs    78    76    75     -     -     -    Scööpy      Doo\n",
      "11   9.0  52.0  85kgs     -     -     -    68    75    72      Huey   McDuck\n",
      "12  10.0  12.0  45kgs     -     -     -    92    95    87     Louie   McDuck\n",
      "13  11.0   NaN  60kgs    78    75    72     -     -     -     Henry      Nam\n",
      "14  12.0  34.0    NaN    65    67    55     -     -     -    Michel     Long\n",
      "15  13.0   NaN    NaN     -     -     -    68    72    70      Tana    Ricky\n",
      "16  14.0   NaN    NaN   NaN   NaN   NaN   NaN   NaN   NaN  UniLever     None\n",
      "17  15.0  52.0  81kgs     -     -     -    68    75    72       NaN      NaN\n"
     ]
    }
   ],
   "source": [
    "# Drop rows where all values are NaN\n",
    "df.dropna(how=\"all\",inplace=True)\n",
    "# Display the updated dataframe\n",
    "print(df)"
   ]
  },
  {
   "cell_type": "markdown",
   "metadata": {},
   "source": [
    "Vấn đề 5 Xóa các hàng bị trùng lặp dựa trên các cột Firstname, Lastname, Age, và Weight"
   ]
  },
  {
   "cell_type": "code",
   "execution_count": 11,
   "metadata": {},
   "outputs": [
    {
     "name": "stdout",
     "output_type": "stream",
     "text": [
      "      Id   Age Weight m0006 m0612 m1218 f0006 f0612 f1218 Firstname Lastname\n",
      "0    1.0  56.0  70kgs    72    69    71     -     -     -    Mickéy    Mousé\n",
      "1    2.0  34.0  70kgs     -     -     -    85    84    76    Donald     Duck\n",
      "2    3.0  16.0    NaN     -     -     -    65    69    72      Mini    Mouse\n",
      "3    4.0   NaN  78kgs    78    79    72     -     -     -   Scrooge   McDuck\n",
      "4    5.0  54.0  90kgs     -     -     -    69   NaN    75      Pink  Panther\n",
      "5    6.0  52.0  85kgs     -     -     -    68    75    72      Huey   McDuck\n",
      "6    7.0  19.0  56kgs     -     -     -    71    78    75     Dewey   McDuck\n",
      "7    8.0  32.0  78kgs    78    76    75     -     -     -    Scööpy      Doo\n",
      "12  10.0  12.0  45kgs     -     -     -    92    95    87     Louie   McDuck\n",
      "13  11.0   NaN  60kgs    78    75    72     -     -     -     Henry      Nam\n",
      "14  12.0  34.0    NaN    65    67    55     -     -     -    Michel     Long\n",
      "15  13.0   NaN    NaN     -     -     -    68    72    70      Tana    Ricky\n",
      "16  14.0   NaN    NaN   NaN   NaN   NaN   NaN   NaN   NaN  UniLever     None\n",
      "17  15.0  52.0  81kgs     -     -     -    68    75    72       NaN      NaN\n"
     ]
    }
   ],
   "source": [
    "# Drop duplicate rows based on specific columns\n",
    "df=df.drop_duplicates(subset=[\"Firstname\",\"Lastname\",\"Age\",\"Weight\"])\n",
    "# Display the updated dataframe\n",
    "print(df)"
   ]
  },
  {
   "cell_type": "markdown",
   "metadata": {},
   "source": [
    "Vấn đề 6  Xóa các ký tự không phải ASCII trong cột Firstname và Lastname"
   ]
  },
  {
   "cell_type": "code",
   "execution_count": 12,
   "metadata": {},
   "outputs": [
    {
     "name": "stdout",
     "output_type": "stream",
     "text": [
      "      Id   Age Weight m0006 m0612 m1218 f0006 f0612 f1218 Firstname Lastname\n",
      "0    1.0  56.0  70kgs    72    69    71     -     -     -     Micky     Mous\n",
      "1    2.0  34.0  70kgs     -     -     -    85    84    76    Donald     Duck\n",
      "2    3.0  16.0    NaN     -     -     -    65    69    72      Mini    Mouse\n",
      "3    4.0   NaN  78kgs    78    79    72     -     -     -   Scrooge   McDuck\n",
      "4    5.0  54.0  90kgs     -     -     -    69   NaN    75      Pink  Panther\n",
      "5    6.0  52.0  85kgs     -     -     -    68    75    72      Huey   McDuck\n",
      "6    7.0  19.0  56kgs     -     -     -    71    78    75     Dewey   McDuck\n",
      "7    8.0  32.0  78kgs    78    76    75     -     -     -      Scpy      Doo\n",
      "12  10.0  12.0  45kgs     -     -     -    92    95    87     Louie   McDuck\n",
      "13  11.0   NaN  60kgs    78    75    72     -     -     -     Henry      Nam\n",
      "14  12.0  34.0    NaN    65    67    55     -     -     -    Michel     Long\n",
      "15  13.0   NaN    NaN     -     -     -    68    72    70      Tana    Ricky\n",
      "16  14.0   NaN    NaN   NaN   NaN   NaN   NaN   NaN   NaN  UniLever     None\n",
      "17  15.0  52.0  81kgs     -     -     -    68    75    72       NaN      NaN\n"
     ]
    },
    {
     "name": "stderr",
     "output_type": "stream",
     "text": [
      "C:\\Users\\AD\\AppData\\Local\\Temp\\ipykernel_13812\\2383492213.py:2: FutureWarning: A value is trying to be set on a copy of a DataFrame or Series through chained assignment using an inplace method.\n",
      "The behavior will change in pandas 3.0. This inplace method will never work because the intermediate object on which we are setting values always behaves as a copy.\n",
      "\n",
      "For example, when doing 'df[col].method(value, inplace=True)', try using 'df.method({col: value}, inplace=True)' or df[col] = df[col].method(value) instead, to perform the operation inplace on the original object.\n",
      "\n",
      "\n",
      "  df.Firstname.replace({r'[^\\x00-\\x7F]+':''}, regex=True, inplace=True)\n",
      "C:\\Users\\AD\\AppData\\Local\\Temp\\ipykernel_13812\\2383492213.py:3: FutureWarning: A value is trying to be set on a copy of a DataFrame or Series through chained assignment using an inplace method.\n",
      "The behavior will change in pandas 3.0. This inplace method will never work because the intermediate object on which we are setting values always behaves as a copy.\n",
      "\n",
      "For example, when doing 'df[col].method(value, inplace=True)', try using 'df.method({col: value}, inplace=True)' or df[col] = df[col].method(value) instead, to perform the operation inplace on the original object.\n",
      "\n",
      "\n",
      "  df.Lastname.replace({r'[^\\x00-\\x7F]+':''}, regex=True, inplace=True)\n"
     ]
    }
   ],
   "source": [
    "# Remove non-ASCII characters from Firstname and Lastname columns\n",
    "df.Firstname.replace({r'[^\\x00-\\x7F]+':''}, regex=True, inplace=True) \n",
    "df.Lastname.replace({r'[^\\x00-\\x7F]+':''}, regex=True, inplace=True)\n",
    "print (df)"
   ]
  },
  {
   "cell_type": "markdown",
   "metadata": {},
   "source": [
    "Vấn đề 7 Xử lý các giá trị thiếu trong cột Age và Weight"
   ]
  },
  {
   "cell_type": "code",
   "execution_count": 13,
   "metadata": {},
   "outputs": [
    {
     "data": {
      "text/plain": [
       "Index([15, 16], dtype='int64')"
      ]
     },
     "execution_count": 13,
     "metadata": {},
     "output_type": "execute_result"
    }
   ],
   "source": [
    "# Find the index of rows where both Age and Weight are NaN\n",
    "index_ageweightnull=df[df[\"Age\"].isna() & df[\"Weight\"].isna()].index\n",
    "index_ageweightnull"
   ]
  },
  {
   "cell_type": "code",
   "execution_count": 14,
   "metadata": {},
   "outputs": [],
   "source": [
    "# Drop these rows\n",
    "df.drop(index_ageweightnull,inplace=True)"
   ]
  },
  {
   "cell_type": "code",
   "execution_count": 14,
   "metadata": {},
   "outputs": [
    {
     "data": {
      "text/plain": [
       "0     56.0\n",
       "1     34.0\n",
       "2     16.0\n",
       "3     36.1\n",
       "4     54.0\n",
       "5     52.0\n",
       "6     19.0\n",
       "7     32.0\n",
       "12    12.0\n",
       "13    36.1\n",
       "14    34.0\n",
       "17    52.0\n",
       "Name: Age, dtype: float64"
      ]
     },
     "execution_count": 14,
     "metadata": {},
     "output_type": "execute_result"
    }
   ],
   "source": [
    "# Fill missing values in Age column with the mean age\n",
    "df[\"Age\"].fillna(df[\"Age\"].mean(),inplace=False)"
   ]
  },
  {
   "cell_type": "markdown",
   "metadata": {},
   "source": [
    "Vấn đề 8 Chuyển đổi dữ liệu từ dạng wide sang long"
   ]
  },
  {
   "cell_type": "code",
   "execution_count": 15,
   "metadata": {},
   "outputs": [],
   "source": [
    "# Reshape the dataframe from wide to long format\n",
    "df = pd.melt(df,id_vars=[\"Id\",\"Age\",\"Weight\",\"Firstname\",\"Lastname\"],value_name=\"PulseRate\",var_name=\"sex_and_time\").sort_values([\"Id\",\"Age\",\"Weight\",\"Firstname\",\"Lastname\"])"
   ]
  },
  {
   "cell_type": "code",
   "execution_count": 16,
   "metadata": {},
   "outputs": [
    {
     "data": {
      "text/plain": [
       "72"
      ]
     },
     "execution_count": 16,
     "metadata": {},
     "output_type": "execute_result"
    }
   ],
   "source": [
    "len(df[\"PulseRate\"])"
   ]
  },
  {
   "cell_type": "code",
   "execution_count": 17,
   "metadata": {},
   "outputs": [
    {
     "data": {
      "text/html": [
       "<div>\n",
       "<style scoped>\n",
       "    .dataframe tbody tr th:only-of-type {\n",
       "        vertical-align: middle;\n",
       "    }\n",
       "\n",
       "    .dataframe tbody tr th {\n",
       "        vertical-align: top;\n",
       "    }\n",
       "\n",
       "    .dataframe thead th {\n",
       "        text-align: right;\n",
       "    }\n",
       "</style>\n",
       "<table border=\"1\" class=\"dataframe\">\n",
       "  <thead>\n",
       "    <tr style=\"text-align: right;\">\n",
       "      <th></th>\n",
       "      <th>Id</th>\n",
       "      <th>Age</th>\n",
       "      <th>Weight</th>\n",
       "      <th>Firstname</th>\n",
       "      <th>Lastname</th>\n",
       "      <th>sex_and_time</th>\n",
       "      <th>PulseRate</th>\n",
       "    </tr>\n",
       "  </thead>\n",
       "  <tbody>\n",
       "    <tr>\n",
       "      <th>0</th>\n",
       "      <td>1.0</td>\n",
       "      <td>56.0</td>\n",
       "      <td>70kgs</td>\n",
       "      <td>Micky</td>\n",
       "      <td>Mous</td>\n",
       "      <td>m0006</td>\n",
       "      <td>72</td>\n",
       "    </tr>\n",
       "    <tr>\n",
       "      <th>12</th>\n",
       "      <td>1.0</td>\n",
       "      <td>56.0</td>\n",
       "      <td>70kgs</td>\n",
       "      <td>Micky</td>\n",
       "      <td>Mous</td>\n",
       "      <td>m0612</td>\n",
       "      <td>69</td>\n",
       "    </tr>\n",
       "    <tr>\n",
       "      <th>24</th>\n",
       "      <td>1.0</td>\n",
       "      <td>56.0</td>\n",
       "      <td>70kgs</td>\n",
       "      <td>Micky</td>\n",
       "      <td>Mous</td>\n",
       "      <td>m1218</td>\n",
       "      <td>71</td>\n",
       "    </tr>\n",
       "    <tr>\n",
       "      <th>36</th>\n",
       "      <td>1.0</td>\n",
       "      <td>56.0</td>\n",
       "      <td>70kgs</td>\n",
       "      <td>Micky</td>\n",
       "      <td>Mous</td>\n",
       "      <td>f0006</td>\n",
       "      <td>-</td>\n",
       "    </tr>\n",
       "    <tr>\n",
       "      <th>48</th>\n",
       "      <td>1.0</td>\n",
       "      <td>56.0</td>\n",
       "      <td>70kgs</td>\n",
       "      <td>Micky</td>\n",
       "      <td>Mous</td>\n",
       "      <td>f0612</td>\n",
       "      <td>-</td>\n",
       "    </tr>\n",
       "    <tr>\n",
       "      <th>60</th>\n",
       "      <td>1.0</td>\n",
       "      <td>56.0</td>\n",
       "      <td>70kgs</td>\n",
       "      <td>Micky</td>\n",
       "      <td>Mous</td>\n",
       "      <td>f1218</td>\n",
       "      <td>-</td>\n",
       "    </tr>\n",
       "    <tr>\n",
       "      <th>1</th>\n",
       "      <td>2.0</td>\n",
       "      <td>34.0</td>\n",
       "      <td>70kgs</td>\n",
       "      <td>Donald</td>\n",
       "      <td>Duck</td>\n",
       "      <td>m0006</td>\n",
       "      <td>-</td>\n",
       "    </tr>\n",
       "    <tr>\n",
       "      <th>13</th>\n",
       "      <td>2.0</td>\n",
       "      <td>34.0</td>\n",
       "      <td>70kgs</td>\n",
       "      <td>Donald</td>\n",
       "      <td>Duck</td>\n",
       "      <td>m0612</td>\n",
       "      <td>-</td>\n",
       "    </tr>\n",
       "    <tr>\n",
       "      <th>25</th>\n",
       "      <td>2.0</td>\n",
       "      <td>34.0</td>\n",
       "      <td>70kgs</td>\n",
       "      <td>Donald</td>\n",
       "      <td>Duck</td>\n",
       "      <td>m1218</td>\n",
       "      <td>-</td>\n",
       "    </tr>\n",
       "    <tr>\n",
       "      <th>37</th>\n",
       "      <td>2.0</td>\n",
       "      <td>34.0</td>\n",
       "      <td>70kgs</td>\n",
       "      <td>Donald</td>\n",
       "      <td>Duck</td>\n",
       "      <td>f0006</td>\n",
       "      <td>85</td>\n",
       "    </tr>\n",
       "  </tbody>\n",
       "</table>\n",
       "</div>"
      ],
      "text/plain": [
       "     Id   Age Weight Firstname Lastname sex_and_time PulseRate\n",
       "0   1.0  56.0  70kgs     Micky     Mous        m0006        72\n",
       "12  1.0  56.0  70kgs     Micky     Mous        m0612        69\n",
       "24  1.0  56.0  70kgs     Micky     Mous        m1218        71\n",
       "36  1.0  56.0  70kgs     Micky     Mous        f0006         -\n",
       "48  1.0  56.0  70kgs     Micky     Mous        f0612         -\n",
       "60  1.0  56.0  70kgs     Micky     Mous        f1218         -\n",
       "1   2.0  34.0  70kgs    Donald     Duck        m0006         -\n",
       "13  2.0  34.0  70kgs    Donald     Duck        m0612         -\n",
       "25  2.0  34.0  70kgs    Donald     Duck        m1218         -\n",
       "37  2.0  34.0  70kgs    Donald     Duck        f0006        85"
      ]
     },
     "execution_count": 17,
     "metadata": {},
     "output_type": "execute_result"
    }
   ],
   "source": [
    "df.head(10)"
   ]
  },
  {
   "cell_type": "code",
   "execution_count": 18,
   "metadata": {},
   "outputs": [
    {
     "name": "stderr",
     "output_type": "stream",
     "text": [
      "<>:2: SyntaxWarning: invalid escape sequence '\\D'\n",
      "<>:2: SyntaxWarning: invalid escape sequence '\\D'\n",
      "C:\\Users\\AD\\AppData\\Local\\Temp\\ipykernel_13812\\1863045151.py:2: SyntaxWarning: invalid escape sequence '\\D'\n",
      "  tmp_df=df[\"sex_and_time\"].str.extract(\"(\\D)(\\d+)(\\d{2})\",expand=True)\n"
     ]
    }
   ],
   "source": [
    "# Extract Sex and Time information from sex_and_time column\n",
    "tmp_df=df[\"sex_and_time\"].str.extract(\"(\\D)(\\d+)(\\d{2})\",expand=True)"
   ]
  },
  {
   "cell_type": "code",
   "execution_count": 19,
   "metadata": {},
   "outputs": [],
   "source": [
    "tmp_df.columns=[\"Sex\",\"hours_lower\",\"hours_upper\"]"
   ]
  },
  {
   "cell_type": "code",
   "execution_count": 20,
   "metadata": {},
   "outputs": [],
   "source": [
    "tmp_df[\"Time\"]=tmp_df[\"hours_lower\"]+ \"-\" +tmp_df[\"hours_upper\"]"
   ]
  },
  {
   "cell_type": "code",
   "execution_count": 21,
   "metadata": {},
   "outputs": [],
   "source": [
    "# Concatenate the extracted information back to the dataframe\n",
    "df=pd.concat([df,tmp_df],axis=1)"
   ]
  },
  {
   "cell_type": "code",
   "execution_count": 22,
   "metadata": {},
   "outputs": [
    {
     "name": "stdout",
     "output_type": "stream",
     "text": [
      "      Id   Age Weight Firstname Lastname sex_and_time PulseRate   Time\n",
      "0    1.0  56.0  70kgs     Micky     Mous        m0006        72  00-06\n",
      "12   1.0  56.0  70kgs     Micky     Mous        m0612        69  06-12\n",
      "24   1.0  56.0  70kgs     Micky     Mous        m1218        71  12-18\n",
      "36   1.0  56.0  70kgs     Micky     Mous        f0006         -  00-06\n",
      "48   1.0  56.0  70kgs     Micky     Mous        f0612         -  06-12\n",
      "60   1.0  56.0  70kgs     Micky     Mous        f1218         -  12-18\n",
      "1    2.0  34.0  70kgs    Donald     Duck        m0006         -  00-06\n",
      "13   2.0  34.0  70kgs    Donald     Duck        m0612         -  06-12\n",
      "25   2.0  34.0  70kgs    Donald     Duck        m1218         -  12-18\n",
      "37   2.0  34.0  70kgs    Donald     Duck        f0006        85  00-06\n",
      "49   2.0  34.0  70kgs    Donald     Duck        f0612        84  06-12\n",
      "61   2.0  34.0  70kgs    Donald     Duck        f1218        76  12-18\n",
      "4    5.0  54.0  90kgs      Pink  Panther        m0006         -  00-06\n",
      "16   5.0  54.0  90kgs      Pink  Panther        m0612         -  06-12\n",
      "28   5.0  54.0  90kgs      Pink  Panther        m1218         -  12-18\n",
      "40   5.0  54.0  90kgs      Pink  Panther        f0006        69  00-06\n",
      "64   5.0  54.0  90kgs      Pink  Panther        f1218        75  12-18\n",
      "5    6.0  52.0  85kgs      Huey   McDuck        m0006         -  00-06\n",
      "17   6.0  52.0  85kgs      Huey   McDuck        m0612         -  06-12\n",
      "29   6.0  52.0  85kgs      Huey   McDuck        m1218         -  12-18\n",
      "41   6.0  52.0  85kgs      Huey   McDuck        f0006        68  00-06\n",
      "53   6.0  52.0  85kgs      Huey   McDuck        f0612        75  06-12\n",
      "65   6.0  52.0  85kgs      Huey   McDuck        f1218        72  12-18\n",
      "6    7.0  19.0  56kgs     Dewey   McDuck        m0006         -  00-06\n",
      "18   7.0  19.0  56kgs     Dewey   McDuck        m0612         -  06-12\n",
      "30   7.0  19.0  56kgs     Dewey   McDuck        m1218         -  12-18\n",
      "42   7.0  19.0  56kgs     Dewey   McDuck        f0006        71  00-06\n",
      "54   7.0  19.0  56kgs     Dewey   McDuck        f0612        78  06-12\n",
      "66   7.0  19.0  56kgs     Dewey   McDuck        f1218        75  12-18\n",
      "7    8.0  32.0  78kgs      Scpy      Doo        m0006        78  00-06\n",
      "19   8.0  32.0  78kgs      Scpy      Doo        m0612        76  06-12\n",
      "31   8.0  32.0  78kgs      Scpy      Doo        m1218        75  12-18\n",
      "43   8.0  32.0  78kgs      Scpy      Doo        f0006         -  00-06\n",
      "55   8.0  32.0  78kgs      Scpy      Doo        f0612         -  06-12\n",
      "67   8.0  32.0  78kgs      Scpy      Doo        f1218         -  12-18\n",
      "8   10.0  12.0  45kgs     Louie   McDuck        m0006         -  00-06\n",
      "20  10.0  12.0  45kgs     Louie   McDuck        m0612         -  06-12\n",
      "32  10.0  12.0  45kgs     Louie   McDuck        m1218         -  12-18\n",
      "44  10.0  12.0  45kgs     Louie   McDuck        f0006        92  00-06\n",
      "56  10.0  12.0  45kgs     Louie   McDuck        f0612        95  06-12\n",
      "68  10.0  12.0  45kgs     Louie   McDuck        f1218        87  12-18\n"
     ]
    }
   ],
   "source": [
    "# Drop unnecessary columns\n",
    "df=df.drop([\"Sex\",\"hours_lower\",\"hours_upper\"],axis=1)\n",
    "# Drop rows with any NaN values\n",
    "df=df.dropna()\n",
    "# Save the cleaned dataframe to a new CSV file\n",
    "df.to_csv(\"outputcleanup.csv\",index=False)\n",
    "print(df)"
   ]
  },
  {
   "cell_type": "markdown",
   "metadata": {},
   "source": [
    "Bài 11"
   ]
  },
  {
   "cell_type": "code",
   "execution_count": 23,
   "metadata": {},
   "outputs": [
    {
     "name": "stdout",
     "output_type": "stream",
     "text": [
      "Tỉ lệ dữ liệu thiếu trên biến PulseRate: 0.00%\n"
     ]
    }
   ],
   "source": [
    "# Đọc dữ liệu từ file CSV đã xử lý\n",
    "df = pd.read_csv(\"outputcleanup.csv\")\n",
    "\n",
    "# Khảo sát tỉ lệ dữ liệu thiếu trên biến huyết áp (PulseRate)\n",
    "missing_pulse_rate = df[\"PulseRate\"].isna().mean() * 100\n",
    "print(f\"Tỉ lệ dữ liệu thiếu trên biến PulseRate: {missing_pulse_rate:.2f}%\")"
   ]
  },
  {
   "cell_type": "code",
   "execution_count": 24,
   "metadata": {},
   "outputs": [
    {
     "name": "stdout",
     "output_type": "stream",
     "text": [
      "        Id   Age Weight Firstname Lastname sex_and_time PulseRate   Time\n",
      "Id                                                                      \n",
      "1.0 0  1.0  56.0  70kgs     Micky     Mous        m0006        72  00-06\n",
      "    1  1.0  56.0  70kgs     Micky     Mous        m0612        69  06-12\n",
      "    2  1.0  56.0  70kgs     Micky     Mous        m1218        71  12-18\n",
      "    3  1.0  56.0  70kgs     Micky     Mous        f0006         -  00-06\n",
      "    4  1.0  56.0  70kgs     Micky     Mous        f0612         -  06-12\n"
     ]
    },
    {
     "name": "stderr",
     "output_type": "stream",
     "text": [
      "C:\\Users\\AD\\AppData\\Local\\Temp\\ipykernel_13812\\622848648.py:29: DeprecationWarning: DataFrameGroupBy.apply operated on the grouping columns. This behavior is deprecated, and in a future version of pandas the grouping columns will be excluded from the operation. Either pass `include_groups=False` to exclude the groupings or explicitly select the grouping columns after groupby to silence this warning.\n",
      "  df = df.groupby(\"Id\").apply(fill_missing_pulse_rate)\n"
     ]
    }
   ],
   "source": [
    "def fill_missing_pulse_rate(group):\n",
    "    # Lặp qua từng hàng của nhóm\n",
    "    for i in range(len(group)):\n",
    "        if pd.isna(group.iloc[i][\"PulseRate\"]):\n",
    "            # 1) Thay thế bằng giá trị trung bình liền trước và liền sau\n",
    "            if i > 0 and i < len(group) - 1 and not pd.isna(group.iloc[i - 1][\"PulseRate\"]) and not pd.isna(group.iloc[i + 1][\"PulseRate\"]):\n",
    "                group.at[i, \"PulseRate\"] = (group.iloc[i - 1][\"PulseRate\"] + group.iloc[i + 1][\"PulseRate\"]) / 2\n",
    "            # 2) Thay thế bằng giá trị trung bình 2 giá liền trước\n",
    "            elif i > 1 and not pd.isna(group.iloc[i - 1][\"PulseRate\"]) and not pd.isna(group.iloc[i - 2][\"PulseRate\"]):\n",
    "                group.at[i, \"PulseRate\"] = (group.iloc[i - 1][\"PulseRate\"] + group.iloc[i - 2][\"PulseRate\"]) / 2\n",
    "            # 3) Thay thế bằng giá trị trung bình 2 giá liền sau\n",
    "            elif i < len(group) - 2 and not pd.isna(group.iloc[i + 1][\"PulseRate\"]) and not pd.isna(group.iloc[i + 2][\"PulseRate\"]):\n",
    "                group.at[i, \"PulseRate\"] = (group.iloc[i + 1][\"PulseRate\"] + group.iloc[i + 2][\"PulseRate\"]) / 2\n",
    "            # 4) Trung bình của các giá trị huyết áp của người đó\n",
    "            elif group[\"PulseRate\"].notna().sum() > 0:\n",
    "                group.at[i, \"PulseRate\"] = group[\"PulseRate\"].mean()\n",
    "            # 5) Trung bình của các giá trị huyết áp của nhóm giới tính\n",
    "            elif df[df[\"Sex\"] == group.iloc[i][\"Sex\"]][\"PulseRate\"].notna().sum() > 0:\n",
    "                group.at[i, \"PulseRate\"] = df[df[\"Sex\"] == group.iloc[i][\"Sex\"]][\"PulseRate\"].mean()\n",
    "            # 6) Trung bình của các giá trị dữ liệu\n",
    "            elif df[\"PulseRate\"].notna().sum() > 0:\n",
    "                group.at[i, \"PulseRate\"] = df[\"PulseRate\"].mean()\n",
    "            # Thay bằng mức ổn định trong y học nếu tất cả các phương pháp trên không được\n",
    "            else:\n",
    "                group.at[i, \"PulseRate\"] = 70  # Giá trị huyết áp ổn định trung bình (ví dụ)\n",
    "    return group\n",
    "\n",
    "# Áp dụng hàm trên từng nhóm bệnh nhân\n",
    "df = df.groupby(\"Id\").apply(fill_missing_pulse_rate)\n",
    "# Lưu lại file CSV sau khi xử lý\n",
    "df.to_csv(\"outputcleanup_filled.csv\", index=False)\n",
    "# Hiển thị một vài dòng dữ liệu đầu tiên sau khi xử lý\n",
    "print(df.head())\n"
   ]
  },
  {
   "cell_type": "markdown",
   "metadata": {},
   "source": [
    "Bài 12"
   ]
  },
  {
   "cell_type": "code",
   "execution_count": 29,
   "metadata": {},
   "outputs": [
    {
     "name": "stdout",
     "output_type": "stream",
     "text": [
      "    Id   Age Weight Firstname Lastname PulseRate   Time\n",
      "0  1.0  56.0  70kgs     Micky     Mous        72  00-06\n",
      "1  1.0  56.0  70kgs     Micky     Mous        69  06-12\n",
      "2  1.0  56.0  70kgs     Micky     Mous        71  12-18\n",
      "3  1.0  56.0  70kgs     Micky     Mous         -  00-06\n",
      "4  1.0  56.0  70kgs     Micky     Mous         -  06-12\n"
     ]
    },
    {
     "name": "stderr",
     "output_type": "stream",
     "text": [
      "C:\\Users\\AD\\AppData\\Local\\Temp\\ipykernel_5836\\3468725866.py:25: DeprecationWarning: DataFrameGroupBy.apply operated on the grouping columns. This behavior is deprecated, and in a future version of pandas the grouping columns will be excluded from the operation. Either pass `include_groups=False` to exclude the groupings or explicitly select the grouping columns after groupby to silence this warning.\n",
      "  df = df.groupby(\"Id\").apply(fill_missing_pulse_rate)\n"
     ]
    }
   ],
   "source": [
    "# Đọc dữ liệu từ file CSV đã xử lý\n",
    "df = pd.read_csv(\"outputcleanup.csv\")\n",
    "\n",
    "# Tạo hàm để thay thế giá trị thiếu trên biến PulseRate\n",
    "def fill_missing_pulse_rate(group):\n",
    "    for i in range(len(group)):\n",
    "        if pd.isna(group.iloc[i][\"PulseRate\"]):\n",
    "            if i > 0 and i < len(group) - 1 and not pd.isna(group.iloc[i - 1][\"PulseRate\"]) and not pd.isna(group.iloc[i + 1][\"PulseRate\"]):\n",
    "                group.at[i, \"PulseRate\"] = (group.iloc[i - 1][\"PulseRate\"] + group.iloc[i + 1][\"PulseRate\"]) / 2\n",
    "            elif i > 1 and not pd.isna(group.iloc[i - 1][\"PulseRate\"]) and not pd.isna(group.iloc[i - 2][\"PulseRate\"]):\n",
    "                group.at[i, \"PulseRate\"] = (group.iloc[i - 1][\"PulseRate\"] + group.iloc[i - 2][\"PulseRate\"]) / 2\n",
    "            elif i < len(group) - 2 and not pd.isna(group.iloc[i + 1][\"PulseRate\"]) and not pd.isna(group.iloc[i + 2][\"PulseRate\"]):\n",
    "                group.at[i, \"PulseRate\"] = (group.iloc[i + 1][\"PulseRate\"] + group.iloc[i + 2][\"PulseRate\"]) / 2\n",
    "            elif group[\"PulseRate\"].notna().sum() > 0:\n",
    "                group.at[i, \"PulseRate\"] = group[\"PulseRate\"].mean()\n",
    "            elif df[df[\"Sex\"] == group.iloc[i][\"Sex\"]][\"PulseRate\"].notna().sum() > 0:\n",
    "                group.at[i, \"PulseRate\"] = df[df[\"Sex\"] == group.iloc[i][\"Sex\"]][\"PulseRate\"].mean()\n",
    "            elif df[\"PulseRate\"].notna().sum() > 0:\n",
    "                group.at[i, \"PulseRate\"] = df[\"PulseRate\"].mean()\n",
    "            else:\n",
    "                group.at[i, \"PulseRate\"] = 70  # Giá trị huyết áp ổn định trung bình (ví dụ)\n",
    "    return group\n",
    "\n",
    "# Áp dụng hàm trên từng nhóm bệnh nhân\n",
    "df = df.groupby(\"Id\").apply(fill_missing_pulse_rate)\n",
    "\n",
    "# Rút gọn dữ liệu: loại bỏ các cột không cần thiết (nếu có)\n",
    "# Ví dụ: giả sử chúng ta muốn giữ lại các cột 'Id', 'Age', 'Weight', 'Firstname', 'Lastname', 'PulseRate', 'Time'\n",
    "columns_to_keep = [\"Id\", \"Age\", \"Weight\", \"Firstname\", \"Lastname\", \"PulseRate\", \"Time\"]\n",
    "df = df[columns_to_keep]\n",
    "\n",
    "# Reindex lại dữ liệu\n",
    "df.reset_index(drop=True, inplace=True)\n",
    "\n",
    "# Lưu trữ dữ liệu đã xử lý thành file mới\n",
    "df.to_csv(\"patient_heart_rate_clean.csv\", index=False)\n",
    "\n",
    "# Hiển thị một vài dòng dữ liệu đầu tiên sau khi xử lý\n",
    "print(df.head())"
   ]
  }
 ],
 "metadata": {
  "kernelspec": {
   "display_name": "Python 3",
   "language": "python",
   "name": "python3"
  },
  "language_info": {
   "codemirror_mode": {
    "name": "ipython",
    "version": 3
   },
   "file_extension": ".py",
   "mimetype": "text/x-python",
   "name": "python",
   "nbconvert_exporter": "python",
   "pygments_lexer": "ipython3",
   "version": "3.12.0"
  }
 },
 "nbformat": 4,
 "nbformat_minor": 2
}
